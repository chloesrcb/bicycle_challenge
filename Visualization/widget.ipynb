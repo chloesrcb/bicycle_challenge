{
 "metadata": {
  "language_info": {
   "codemirror_mode": {
    "name": "ipython",
    "version": 3
   },
   "file_extension": ".py",
   "mimetype": "text/x-python",
   "name": "python",
   "nbconvert_exporter": "python",
   "pygments_lexer": "ipython3",
   "version": "3.8.5-final"
  },
  "orig_nbformat": 2,
  "kernelspec": {
   "name": "python3",
   "display_name": "Python 3.8.5 64-bit ('hmma238_env': conda)",
   "metadata": {
    "interpreter": {
     "hash": "8a2e761e94275cd90f8e0859603f75012eac8de675f49d84949804206e669772"
    }
   }
  }
 },
 "nbformat": 4,
 "nbformat_minor": 2,
 "cells": [
  {
   "cell_type": "code",
   "execution_count": 2,
   "metadata": {},
   "outputs": [],
   "source": [
    "import bikevisualization as bv\n",
    "import pandas as pd\n",
    "import numpy as np\n",
    "import string, os\n",
    "import matplotlib.pyplot as plt\n",
    "import requests, tempfile, zipfile\n",
    "import urllib, json\n",
    "import seaborn as sns\n",
    "from __future__ import print_function\n",
    "from ipywidgets import interact, interactive, fixed, interact_manual\n",
    "import ipywidgets as widgets\n",
    "import calendar"
   ]
  },
  {
   "cell_type": "code",
   "execution_count": 3,
   "metadata": {},
   "outputs": [],
   "source": [
    "# load data in a list of dataframe\n",
    "df_counters = bv.Load_json().save_as_df()"
   ]
  },
  {
   "cell_type": "code",
   "execution_count": 4,
   "metadata": {},
   "outputs": [],
   "source": [
    "# format data for all dataframe in df_counters\n",
    "df_counters = bv.format_dfs(df_counters)"
   ]
  },
  {
   "cell_type": "code",
   "execution_count": 5,
   "metadata": {},
   "outputs": [],
   "source": [
    "counters = [\n",
    "    \"Berracasa\",\n",
    "    \"Laverune\",\n",
    "    \"Celleneuve\",\n",
    "    \"Lattes 2\",\n",
    "    \"Lattes 1\",\n",
    "    \"Vieille Poste\",\n",
    "    \"Gerhardt\",\n",
    "    \"Albert 1er\",\n",
    "    \"Delmas 1\",\n",
    "    \"Delmas 2\"\n",
    "    ]\n",
    "\n",
    "dict_counters = bv.create_dict_counter(counters, df_counters)"
   ]
  },
  {
   "cell_type": "code",
   "execution_count": 6,
   "metadata": {},
   "outputs": [
    {
     "output_type": "display_data",
     "data": {
      "text/plain": "interactive(children=(Dropdown(description='counter', options=('Berracasa', 'Laverune', 'Celleneuve', 'Lattes …",
      "application/vnd.jupyter.widget-view+json": {
       "version_major": 2,
       "version_minor": 0,
       "model_id": "49efaf8466d14c71839a07bcba09d326"
      }
     },
     "metadata": {}
    }
   ],
   "source": [
    "interact(bv.plot_counter, dict_counters = fixed(dict_counters), counter=counters, date=False, week=False, month=False, histogram=False)\n"
   ]
  }
 ]
}