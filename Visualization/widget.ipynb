{
 "metadata": {
  "language_info": {
   "codemirror_mode": {
    "name": "ipython",
    "version": 3
   },
   "file_extension": ".py",
   "mimetype": "text/x-python",
   "name": "python",
   "nbconvert_exporter": "python",
   "pygments_lexer": "ipython3",
   "version": "3.9.2"
  },
  "orig_nbformat": 2,
  "kernelspec": {
   "name": "python3",
   "display_name": "Python 3",
   "language": "python"
  }
 },
 "nbformat": 4,
 "nbformat_minor": 2,
 "cells": [
  {
   "cell_type": "code",
   "execution_count": 1,
   "metadata": {},
   "outputs": [],
   "source": [
    "import bikevisualization as bv\n",
    "from ipywidgets import interact, interactive, fixed, interact_manual"
   ]
  },
  {
   "cell_type": "code",
   "execution_count": 2,
   "metadata": {},
   "outputs": [],
   "source": [
    "# load data in a list of dataframe\n",
    "df_counters = bv.Load_json().save_as_df()"
   ]
  },
  {
   "cell_type": "code",
   "execution_count": 3,
   "metadata": {},
   "outputs": [],
   "source": [
    "# format data for all dataframe in df_counters\n",
    "df_counters = bv.format_dfs(df_counters)"
   ]
  },
  {
   "cell_type": "code",
   "execution_count": 4,
   "metadata": {},
   "outputs": [],
   "source": [
    "counters = [\n",
    "    \"Berracasa\",\n",
    "    \"Laverune\",\n",
    "    \"Celleneuve\",\n",
    "    \"Lattes 2\",\n",
    "    \"Lattes 1\",\n",
    "    \"Vieille Poste\",\n",
    "    \"Gerhardt\",\n",
    "    \"Albert 1er\",\n",
    "    \"Delmas 1\",\n",
    "    \"Delmas 2\"\n",
    "    ]\n",
    "\n",
    "dict_counters = bv.create_dict_counter(counters, df_counters)"
   ]
  },
  {
   "cell_type": "code",
   "execution_count": 5,
   "metadata": {},
   "outputs": [
    {
     "output_type": "display_data",
     "data": {
      "text/plain": "interactive(children=(Dropdown(description='counter', options=('Berracasa', 'Laverune', 'Celleneuve', 'Lattes …",
      "application/vnd.jupyter.widget-view+json": {
       "version_major": 2,
       "version_minor": 0,
       "model_id": "9411300f56cf466088f52ff40194655d"
      }
     },
     "metadata": {}
    },
    {
     "output_type": "execute_result",
     "data": {
      "text/plain": [
       "<function bikevisualization.vis.plot_counter.plot_counter(dict_counters, counter, option, animation)>"
      ]
     },
     "metadata": {},
     "execution_count": 5
    }
   ],
   "source": [
    "interact(bv.plot_counter, dict_counters = fixed(dict_counters), counter=counters, option=[\"date\",\"week\",\"month\",\"histogram\"],animation=False)\n"
   ]
  },
  {
   "cell_type": "code",
   "execution_count": null,
   "metadata": {},
   "outputs": [],
   "source": []
  }
 ]
}