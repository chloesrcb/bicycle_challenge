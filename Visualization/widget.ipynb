{
 "metadata": {
  "language_info": {
   "codemirror_mode": {
    "name": "ipython",
    "version": 3
   },
   "file_extension": ".py",
   "mimetype": "text/x-python",
   "name": "python",
   "nbconvert_exporter": "python",
   "pygments_lexer": "ipython3",
   "version": "3.8.8"
  },
  "orig_nbformat": 2,
  "kernelspec": {
   "name": "python388jvsc74a57bd0c6b367085ededd406e11120717f99f33b38ad7af786842e97a4b50e7d7fcc906",
   "display_name": "Python 3.8.8 64-bit ('test_env': conda)"
  }
 },
 "nbformat": 4,
 "nbformat_minor": 2,
 "cells": [
  {
   "source": [
    "# Visualization of bike traffic recorded by Montpellier's counters\n",
    "\n",
    "> **Author**: Chloé Serre-Combe - chloe.serre-combe@etu.umontpellier.fr\n",
    "\n",
    "This is a widget created for the visualization of the bike traffic in Montpellier between December 2020 and the present day.  \n",
    "We can see some charts on each counters : \n",
    "\n",
    "    - the daily intensity of bikes;\n",
    "    - the intensity of bikes by day of week;\n",
    "    - the intensity of bikes by month;\n",
    "    - a histogram of the amount of each possible intensity by month.  \n",
    "Then we can see a gif animation showing intensities of bikes for all counters in Montpellier at the same time."
   ],
   "cell_type": "markdown",
   "metadata": {}
  },
  {
   "cell_type": "code",
   "execution_count": 3,
   "metadata": {},
   "outputs": [],
   "source": [
    "import bikevisualization as bv\n",
    "from ipywidgets import interact, interactive, fixed, interact_manual"
   ]
  },
  {
   "cell_type": "code",
   "execution_count": 4,
   "metadata": {},
   "outputs": [
    {
     "output_type": "display_data",
     "data": {
      "text/plain": "interactive(children=(Dropdown(description='counter', options=('Berracasa', 'Laverune', 'Celleneuve', 'Lattes …",
      "application/vnd.jupyter.widget-view+json": {
       "version_major": 2,
       "version_minor": 0,
       "model_id": "48d544511d214e908ab9d99e45356b75"
      }
     },
     "metadata": {}
    },
    {
     "output_type": "display_data",
     "data": {
      "text/plain": "interactive(children=(Dropdown(description='counter', options=('Berracasa', 'Laverune', 'Celleneuve', 'Lattes …",
      "application/vnd.jupyter.widget-view+json": {
       "version_major": 2,
       "version_minor": 0,
       "model_id": "48d544511d214e908ab9d99e45356b75"
      }
     },
     "metadata": {}
    }
   ],
   "source": [
    "# load data in a list of dataframe\n",
    "df_counters = bv.Load_json().save_as_df()\n",
    "\n",
    "# format data for all dataframe in df_counters\n",
    "df_counters = bv.format_dfs(df_counters)\n",
    "\n",
    "# list of all name of counters\n",
    "counters = [\n",
    "    \"Berracasa\",\n",
    "    \"Laverune\",\n",
    "    \"Celleneuve\",\n",
    "    \"Lattes 2\",\n",
    "    \"Lattes 1\",\n",
    "    \"Vieille Poste\",\n",
    "    \"Gerhardt\",\n",
    "    \"Albert 1er\",\n",
    "    \"Delmas 1\",\n",
    "    \"Delmas 2\"\n",
    "    ]\n",
    "\n",
    "# create a dictionnary with counter name in key and dataframe in value corresponding to each counter\n",
    "dict_counters = bv.create_dict_counter(counters, df_counters)\n",
    "\n",
    "# Widget view\n",
    "interact(bv.plot_counter, dict_counters = fixed(dict_counters), counter=counters, option=[\"date\", \"week\", \"month\", \"histogram\"], animation=False);\n"
   ]
  },
  {
   "cell_type": "code",
   "execution_count": null,
   "metadata": {},
   "outputs": [],
   "source": []
  }
 ]
}